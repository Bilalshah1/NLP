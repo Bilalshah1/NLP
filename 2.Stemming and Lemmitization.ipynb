{
 "cells": [
  {
   "metadata": {},
   "cell_type": "code",
   "outputs": [],
   "execution_count": null,
   "source": "import  nltk",
   "id": "6a29eeb3dc58a28b"
  }
 ],
 "metadata": {},
 "nbformat": 4,
 "nbformat_minor": 5
}
